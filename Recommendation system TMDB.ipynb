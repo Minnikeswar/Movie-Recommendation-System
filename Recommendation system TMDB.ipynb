{
 "cells": [
  {
   "cell_type": "code",
   "execution_count": null,
   "id": "987dee16",
   "metadata": {},
   "outputs": [],
   "source": [
    "import numpy as np\n",
    "import pandas as pd\n",
    "movies=pd.read_csv('tmdb_5000_movies.csv')\n",
    "credits=pd.read_csv('tmdb_5000_credits.csv')"
   ]
  },
  {
   "cell_type": "code",
   "execution_count": null,
   "id": "4ece2007",
   "metadata": {},
   "outputs": [],
   "source": [
    "movies.head(3)"
   ]
  },
  {
   "cell_type": "code",
   "execution_count": null,
   "id": "8800d694",
   "metadata": {
    "scrolled": true
   },
   "outputs": [],
   "source": [
    "credits.head(3)"
   ]
  },
  {
   "cell_type": "code",
   "execution_count": null,
   "id": "f7d84ccd",
   "metadata": {},
   "outputs": [],
   "source": [
    "movies=movies.merge(credits,left_on='id',right_on='movie_id')"
   ]
  },
  {
   "cell_type": "code",
   "execution_count": null,
   "id": "043d6653",
   "metadata": {},
   "outputs": [],
   "source": [
    "movies.head(2)"
   ]
  },
  {
   "cell_type": "code",
   "execution_count": null,
   "id": "4e946a62",
   "metadata": {},
   "outputs": [],
   "source": [
    "movies.drop(columns=['budget','homepage','original_language','spoken_languages','original_title','popularity','release_date','runtime','status','tagline','title_y','vote_average','vote_count','revenue','production_countries','id'],inplace=True)"
   ]
  },
  {
   "cell_type": "code",
   "execution_count": null,
   "id": "6d29c098",
   "metadata": {},
   "outputs": [],
   "source": [
    "credits.rename(columns={'title_x': 'title'},inplace=True)"
   ]
  },
  {
   "cell_type": "code",
   "execution_count": null,
   "id": "a2598658",
   "metadata": {},
   "outputs": [],
   "source": [
    "movies.info()"
   ]
  },
  {
   "cell_type": "code",
   "execution_count": null,
   "id": "645c026c",
   "metadata": {},
   "outputs": [],
   "source": [
    "movies_buffer=movies.copy()"
   ]
  },
  {
   "cell_type": "markdown",
   "id": "424b7e9d",
   "metadata": {},
   "source": [
    "# data preprocessing"
   ]
  },
  {
   "cell_type": "code",
   "execution_count": null,
   "id": "ef9d67e3",
   "metadata": {},
   "outputs": [],
   "source": [
    "movies.isnull().sum()"
   ]
  },
  {
   "cell_type": "code",
   "execution_count": null,
   "id": "73025243",
   "metadata": {},
   "outputs": [],
   "source": [
    "movies.dropna(inplace=True)"
   ]
  },
  {
   "cell_type": "code",
   "execution_count": null,
   "id": "06f120a0",
   "metadata": {},
   "outputs": [],
   "source": [
    "movies.isnull().sum()"
   ]
  },
  {
   "cell_type": "markdown",
   "id": "c2e837ac",
   "metadata": {},
   "source": [
    " "
   ]
  },
  {
   "cell_type": "markdown",
   "id": "719dd773",
   "metadata": {},
   "source": [
    " Extracting tags from the data :"
   ]
  },
  {
   "cell_type": "code",
   "execution_count": null,
   "id": "fb578ef4",
   "metadata": {},
   "outputs": [],
   "source": [
    "import ast \n",
    "def genre_extract(obj):\n",
    "    obj=ast.literal_eval(obj)#for removing the string format on an object\n",
    "    return [i['name'].lower() for i in obj]"
   ]
  },
  {
   "cell_type": "code",
   "execution_count": null,
   "id": "e77a6242",
   "metadata": {},
   "outputs": [],
   "source": [
    "movies.genres=movies.genres.apply(genre_extract)"
   ]
  },
  {
   "cell_type": "code",
   "execution_count": null,
   "id": "545e5e4a",
   "metadata": {},
   "outputs": [],
   "source": [
    "movies.keywords=movies.keywords.apply(genre_extract)"
   ]
  },
  {
   "cell_type": "code",
   "execution_count": null,
   "id": "38482db8",
   "metadata": {},
   "outputs": [],
   "source": [
    "movies.production_companies=movies.production_companies.apply(genre_extract)"
   ]
  },
  {
   "cell_type": "code",
   "execution_count": null,
   "id": "c7841a2b",
   "metadata": {},
   "outputs": [],
   "source": [
    "def cast_extract(obj):\n",
    "    obj=ast.literal_eval(obj)\n",
    "    return [obj[i]['character'].lower() for i in range(min(3,len(obj)))]#extracting cast of top 3 characters in the film"
   ]
  },
  {
   "cell_type": "code",
   "execution_count": null,
   "id": "4243c6b0",
   "metadata": {},
   "outputs": [],
   "source": [
    "movies.cast=movies.cast.apply(cast_extract)"
   ]
  },
  {
   "cell_type": "code",
   "execution_count": null,
   "id": "8e25f47c",
   "metadata": {},
   "outputs": [],
   "source": [
    "def crew_extract(obj):\n",
    "    obj=ast.literal_eval(obj)\n",
    "    return [i['name'].lower() for i in obj if i['job']=='Director']#only retaining the director in the crew list"
   ]
  },
  {
   "cell_type": "code",
   "execution_count": null,
   "id": "c655982c",
   "metadata": {},
   "outputs": [],
   "source": [
    "movies.crew=movies.crew.apply(crew_extract)"
   ]
  },
  {
   "cell_type": "code",
   "execution_count": null,
   "id": "eb8c54f5",
   "metadata": {},
   "outputs": [],
   "source": [
    "movies.head()"
   ]
  },
  {
   "cell_type": "code",
   "execution_count": null,
   "id": "5ac8982d",
   "metadata": {},
   "outputs": [],
   "source": [
    "y=lambda x:[i.replace(' ','') for i in x] #removing spaces in the names for better tag discrimination\n",
    "movies.cast=movies.cast.apply(y)\n",
    "movies.crew=movies.crew.apply(y)\n",
    "movies.production_companies=movies.production_companies.apply(y)\n",
    "movies.genres=movies.genres.apply(y)\n",
    "movies.keywords=movies.keywords.apply(y)"
   ]
  },
  {
   "cell_type": "code",
   "execution_count": null,
   "id": "a02b8b2a",
   "metadata": {},
   "outputs": [],
   "source": [
    "movies.overview=movies.overview.apply(lambda x:x.split())"
   ]
  },
  {
   "cell_type": "code",
   "execution_count": null,
   "id": "f6864a8c",
   "metadata": {},
   "outputs": [],
   "source": [
    "movies['tags']=movies.cast+movies.crew+movies.production_companies+movies.genres+movies.keywords+movies.overview"
   ]
  },
  {
   "cell_type": "code",
   "execution_count": null,
   "id": "33c9fdcd",
   "metadata": {},
   "outputs": [],
   "source": [
    "new_df=movies[['movie_id','title_x','tags']] #seperating the required data"
   ]
  },
  {
   "cell_type": "code",
   "execution_count": null,
   "id": "5bf39782",
   "metadata": {},
   "outputs": [],
   "source": [
    "new_df.tags=new_df.tags.apply(lambda x: (' '.join(x)).lower()) #converting the list of tags into corpus for further processing"
   ]
  },
  {
   "cell_type": "code",
   "execution_count": null,
   "id": "920c8731",
   "metadata": {},
   "outputs": [],
   "source": [
    "new_df.to_csv('minni.csv',index=False)"
   ]
  },
  {
   "cell_type": "code",
   "execution_count": null,
   "id": "02ce871d",
   "metadata": {
    "scrolled": true
   },
   "outputs": [],
   "source": [
    "from nltk.stem.porter import PorterStemmer #for converting all similiar meaning tags to one eg: adventures,adventure->adventure\n",
    "import re\n",
    "ps=PorterStemmer()\n",
    "ps=PorterStemmer()\n",
    "def transform_tag(tag):\n",
    "    tag=re.sub('\\W+',' ', tag)#to remove special characters if any\n",
    "    return ' '.join(ps.stem(i) for i in tag.split())"
   ]
  },
  {
   "cell_type": "code",
   "execution_count": null,
   "id": "ad859010",
   "metadata": {},
   "outputs": [],
   "source": [
    "transform_tag(new_df.iloc[0].tags) #verification purpose only"
   ]
  },
  {
   "cell_type": "code",
   "execution_count": null,
   "id": "f27ec986",
   "metadata": {
    "scrolled": false
   },
   "outputs": [],
   "source": [
    "new_df.tags=new_df.tags.apply(transform_tag)"
   ]
  },
  {
   "cell_type": "code",
   "execution_count": null,
   "id": "748487f1",
   "metadata": {},
   "outputs": [],
   "source": [
    "from sklearn.feature_extraction.text import CountVectorizer\n",
    "transformer=CountVectorizer(max_features=5000,stop_words='english')#to pick top 5000 most repetitve tags\n",
    "vector=transformer.fit_transform(new_df.tags).toarray()#2D array representing whether the tag is present in the movie or not!"
   ]
  },
  {
   "cell_type": "code",
   "execution_count": null,
   "id": "d1d1e2f1",
   "metadata": {},
   "outputs": [],
   "source": [
    "from sklearn.metrics.pairwise import cosine_similarity\n",
    "sim=cosine_similarity(vector) #similiarity matrix representing similiarity between movies (ranging from 0 to 1)"
   ]
  },
  {
   "cell_type": "code",
   "execution_count": null,
   "id": "1dba0b58",
   "metadata": {},
   "outputs": [],
   "source": [
    "def recommend(movie):\n",
    "    ind=new_df[new_df.title_x==movie].index[0]\n",
    "    similarity=sim[ind]\n",
    "    x=sorted(list(enumerate(similarity)),reverse=True,key=lambda x:x[1])[1:6]#picking top 5 movies\n",
    "    for i in x:\n",
    "        print(new_df.iloc[i[0]].title_x)"
   ]
  },
  {
   "cell_type": "markdown",
   "id": "b465420c",
   "metadata": {},
   "source": [
    "# "
   ]
  },
  {
   "cell_type": "markdown",
   "id": "b1c285a5",
   "metadata": {},
   "source": [
    "Saving the require components to access from the webpage.py (the launching code)"
   ]
  },
  {
   "cell_type": "code",
   "execution_count": null,
   "id": "1e4db43e",
   "metadata": {},
   "outputs": [],
   "source": [
    "import pickle as pk\n",
    "pk.dump(new_df.to_dict(),open('movies.pkl','wb'))#exporting the data and similiary matrix for access on webpage\n",
    "pk.dump(sim,open('similiarity_matrix.pkl','wb'))"
   ]
  },
  {
   "cell_type": "markdown",
   "id": "bb6bf9fb",
   "metadata": {},
   "source": [
    "# "
   ]
  },
  {
   "cell_type": "markdown",
   "id": "f8fc6df7",
   "metadata": {},
   "source": [
    "# Thank You"
   ]
  }
 ],
 "metadata": {
  "kernelspec": {
   "display_name": "Python 3 (ipykernel)",
   "language": "python",
   "name": "python3"
  },
  "language_info": {
   "codemirror_mode": {
    "name": "ipython",
    "version": 3
   },
   "file_extension": ".py",
   "mimetype": "text/x-python",
   "name": "python",
   "nbconvert_exporter": "python",
   "pygments_lexer": "ipython3",
   "version": "3.9.12"
  }
 },
 "nbformat": 4,
 "nbformat_minor": 5
}
